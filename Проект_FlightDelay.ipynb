{
 "cells": [
  {
   "cell_type": "markdown",
   "metadata": {},
   "source": [
    " # Школа DA_итоговый проект Казанцевой Дарьи"
   ]
  },
  {
   "cell_type": "code",
   "execution_count": 578,
   "metadata": {},
   "outputs": [],
   "source": [
    "import pandas as pd\n",
    "import numpy as np\n",
    "import math\n",
    "from sklearn.model_selection import train_test_split\n",
    "from sklearn.linear_model import LinearRegression\n",
    "from sklearn.metrics import mean_squared_error\n",
    "from math import sqrt\n",
    "from sklearn.preprocessing import LabelEncoder\n",
    "from sklearn.tree import DecisionTreeRegressor"
   ]
  },
  {
   "cell_type": "code",
   "execution_count": 431,
   "metadata": {},
   "outputs": [
    {
     "name": "stderr",
     "output_type": "stream",
     "text": [
      "/Users/nosocheeeek/opt/anaconda3/lib/python3.8/site-packages/IPython/core/interactiveshell.py:3146: DtypeWarning: Columns (7,8) have mixed types.Specify dtype option on import or set low_memory=False.\n",
      "  has_raised = await self.run_ast_nodes(code_ast.body, cell_name,\n"
     ]
    }
   ],
   "source": [
    "airlines = pd.read_csv('airlines.csv')\n",
    "airports = pd.read_csv('airports.csv')\n",
    "flights = pd.read_csv('flights.csv')"
   ]
  },
  {
   "cell_type": "markdown",
   "metadata": {},
   "source": [
    "----------Задача 1: Найти аэропорт с минимальной задержкой вылета"
   ]
  },
  {
   "cell_type": "code",
   "execution_count": 244,
   "metadata": {},
   "outputs": [
    {
     "data": {
      "text/plain": [
       "0"
      ]
     },
     "execution_count": 244,
     "metadata": {},
     "output_type": "execute_result"
    }
   ],
   "source": [
    "#Проверим столбец ORIGIN_AIRPORT на наличие пропусков\n",
    "flights.ORIGIN_AIRPORT.isna().sum()"
   ]
  },
  {
   "cell_type": "code",
   "execution_count": 305,
   "metadata": {},
   "outputs": [],
   "source": [
    "#Посмотрим, какие аэропорты, из которых отправляются рейсы, есть в датафрейме\n",
    "flights.ORIGIN_AIRPORT.unique().tolist()\n",
    "flights.DESTINATION_AIRPORT.unique().tolist()"
   ]
  },
  {
   "cell_type": "code",
   "execution_count": null,
   "metadata": {},
   "outputs": [],
   "source": [
    "#В ORIGIN_AIRPORT и DESTINATION_AIRPORT встречаются обозначения аэропортов в разных кодировках.\n",
    "#Нужно заменить пятизначные значения FAA в IATA, чтобы сделать данные однородными. \n",
    "#Для этого я нашла в Интернете два csv-файла, один содержит все аэропорты США в кодировке IATA, другой в FAA."
   ]
  },
  {
   "cell_type": "code",
   "execution_count": 432,
   "metadata": {},
   "outputs": [],
   "source": [
    "#Решаем проблему с несоответствующим кодом в колонке ORIGIN_AIRPORT\n",
    "aircode1 = pd.read_csv('L_AIRPORT.csv')\n",
    "aircode2 = pd.read_csv('L_AIRPORT_ID.csv')"
   ]
  },
  {
   "cell_type": "code",
   "execution_count": 248,
   "metadata": {},
   "outputs": [
    {
     "data": {
      "text/html": [
       "<div>\n",
       "<style scoped>\n",
       "    .dataframe tbody tr th:only-of-type {\n",
       "        vertical-align: middle;\n",
       "    }\n",
       "\n",
       "    .dataframe tbody tr th {\n",
       "        vertical-align: top;\n",
       "    }\n",
       "\n",
       "    .dataframe thead th {\n",
       "        text-align: right;\n",
       "    }\n",
       "</style>\n",
       "<table border=\"1\" class=\"dataframe\">\n",
       "  <thead>\n",
       "    <tr style=\"text-align: right;\">\n",
       "      <th></th>\n",
       "      <th>Code</th>\n",
       "      <th>Description</th>\n",
       "    </tr>\n",
       "  </thead>\n",
       "  <tbody>\n",
       "    <tr>\n",
       "      <th>0</th>\n",
       "      <td>01A</td>\n",
       "      <td>Afognak Lake, AK: Afognak Lake Airport</td>\n",
       "    </tr>\n",
       "    <tr>\n",
       "      <th>1</th>\n",
       "      <td>03A</td>\n",
       "      <td>Granite Mountain, AK: Bear Creek Mining Strip</td>\n",
       "    </tr>\n",
       "    <tr>\n",
       "      <th>2</th>\n",
       "      <td>04A</td>\n",
       "      <td>Lik, AK: Lik Mining Camp</td>\n",
       "    </tr>\n",
       "    <tr>\n",
       "      <th>3</th>\n",
       "      <td>05A</td>\n",
       "      <td>Little Squaw, AK: Little Squaw Airport</td>\n",
       "    </tr>\n",
       "    <tr>\n",
       "      <th>4</th>\n",
       "      <td>06A</td>\n",
       "      <td>Kizhuyak, AK: Kizhuyak Bay</td>\n",
       "    </tr>\n",
       "  </tbody>\n",
       "</table>\n",
       "</div>"
      ],
      "text/plain": [
       "  Code                                    Description\n",
       "0  01A         Afognak Lake, AK: Afognak Lake Airport\n",
       "1  03A  Granite Mountain, AK: Bear Creek Mining Strip\n",
       "2  04A                       Lik, AK: Lik Mining Camp\n",
       "3  05A         Little Squaw, AK: Little Squaw Airport\n",
       "4  06A                     Kizhuyak, AK: Kizhuyak Bay"
      ]
     },
     "execution_count": 248,
     "metadata": {},
     "output_type": "execute_result"
    }
   ],
   "source": [
    "aircode1.head(5) #IATA кодировки"
   ]
  },
  {
   "cell_type": "code",
   "execution_count": 249,
   "metadata": {},
   "outputs": [
    {
     "data": {
      "text/html": [
       "<div>\n",
       "<style scoped>\n",
       "    .dataframe tbody tr th:only-of-type {\n",
       "        vertical-align: middle;\n",
       "    }\n",
       "\n",
       "    .dataframe tbody tr th {\n",
       "        vertical-align: top;\n",
       "    }\n",
       "\n",
       "    .dataframe thead th {\n",
       "        text-align: right;\n",
       "    }\n",
       "</style>\n",
       "<table border=\"1\" class=\"dataframe\">\n",
       "  <thead>\n",
       "    <tr style=\"text-align: right;\">\n",
       "      <th></th>\n",
       "      <th>Code</th>\n",
       "      <th>Description</th>\n",
       "    </tr>\n",
       "  </thead>\n",
       "  <tbody>\n",
       "    <tr>\n",
       "      <th>0</th>\n",
       "      <td>10001</td>\n",
       "      <td>Afognak Lake, AK: Afognak Lake Airport</td>\n",
       "    </tr>\n",
       "    <tr>\n",
       "      <th>1</th>\n",
       "      <td>10003</td>\n",
       "      <td>Granite Mountain, AK: Bear Creek Mining Strip</td>\n",
       "    </tr>\n",
       "    <tr>\n",
       "      <th>2</th>\n",
       "      <td>10004</td>\n",
       "      <td>Lik, AK: Lik Mining Camp</td>\n",
       "    </tr>\n",
       "    <tr>\n",
       "      <th>3</th>\n",
       "      <td>10005</td>\n",
       "      <td>Little Squaw, AK: Little Squaw Airport</td>\n",
       "    </tr>\n",
       "    <tr>\n",
       "      <th>4</th>\n",
       "      <td>10006</td>\n",
       "      <td>Kizhuyak, AK: Kizhuyak Bay</td>\n",
       "    </tr>\n",
       "  </tbody>\n",
       "</table>\n",
       "</div>"
      ],
      "text/plain": [
       "    Code                                    Description\n",
       "0  10001         Afognak Lake, AK: Afognak Lake Airport\n",
       "1  10003  Granite Mountain, AK: Bear Creek Mining Strip\n",
       "2  10004                       Lik, AK: Lik Mining Camp\n",
       "3  10005         Little Squaw, AK: Little Squaw Airport\n",
       "4  10006                     Kizhuyak, AK: Kizhuyak Bay"
      ]
     },
     "execution_count": 249,
     "metadata": {},
     "output_type": "execute_result"
    }
   ],
   "source": [
    "aircode2.head(5) #FAA кодировки"
   ]
  },
  {
   "cell_type": "code",
   "execution_count": 433,
   "metadata": {},
   "outputs": [],
   "source": [
    "#Преобразуем датафреймы для дальнейшего использования\n",
    "aircode1 = aircode1.reset_index()\n",
    "aircode2 = aircode2.reset_index()\n",
    "aircodes = pd.merge(aircode1,aircode2,on='Description')\n",
    "aircode_dict = dict(zip(aircodes['Code_y'].astype(str),aircodes['Code_x']))\n",
    "\n",
    "flights['ORIGIN_AIRPORT'] = flights['ORIGIN_AIRPORT'].values.astype(str)\n",
    "flights['DESTINATION_AIRPORT'] = flights['DESTINATION_AIRPORT'].values.astype(str)"
   ]
  },
  {
   "cell_type": "code",
   "execution_count": 434,
   "metadata": {},
   "outputs": [],
   "source": [
    "#Цикл для замены всех несоответсвующих IATA значений\n",
    "for i in range(len(flights)):\n",
    "    if len(flights['ORIGIN_AIRPORT'][i]) != 3:\n",
    "        to_replace = flights['ORIGIN_AIRPORT'][i]\n",
    "        value = aircode_dict[flights['ORIGIN_AIRPORT'][i]]\n",
    "        flights = flights.replace(to_replace, value)"
   ]
  },
  {
   "cell_type": "code",
   "execution_count": 252,
   "metadata": {},
   "outputs": [],
   "source": [
    "#Для определения аэропорта с минимальной задержкой вылета нам не нужны несостоявшиеся вылеты\n",
    "ncanceled_flights = flights.query('CANCELLED == False')"
   ]
  },
  {
   "cell_type": "code",
   "execution_count": 255,
   "metadata": {},
   "outputs": [
    {
     "data": {
      "text/plain": [
       "0"
      ]
     },
     "execution_count": 255,
     "metadata": {},
     "output_type": "execute_result"
    }
   ],
   "source": [
    "#Проверим столбец DEPARTURE_DELAY на наличие пропусков\n",
    "ncanceled_flights.DEPARTURE_DELAY.isna().sum()"
   ]
  },
  {
   "cell_type": "code",
   "execution_count": 256,
   "metadata": {},
   "outputs": [],
   "source": [
    "#Рассчитаем среднее время задержки вылета в каждом аэропорте\n",
    "mean_delays = ncanceled_flights.groupby('ORIGIN_AIRPORT')['DEPARTURE_DELAY'].mean()"
   ]
  },
  {
   "cell_type": "code",
   "execution_count": 257,
   "metadata": {},
   "outputs": [
    {
     "data": {
      "text/plain": [
       "ORIGIN_AIRPORT\n",
       "YAK    -6.070932\n",
       "CNY    -6.058537\n",
       "EKO    -3.933333\n",
       "VEL    -3.740000\n",
       "CDV    -3.454545\n",
       "         ...    \n",
       "OTH    18.969697\n",
       "PPG    20.844828\n",
       "HYA    23.182927\n",
       "MVY    24.685185\n",
       "ILG    29.568421\n",
       "Name: DEPARTURE_DELAY, Length: 323, dtype: float64"
      ]
     },
     "execution_count": 257,
     "metadata": {},
     "output_type": "execute_result"
    }
   ],
   "source": [
    "mean_delays.sort_values()"
   ]
  },
  {
   "cell_type": "code",
   "execution_count": 258,
   "metadata": {},
   "outputs": [],
   "source": [
    "min_delay_airport = mean_delays.idxmin()"
   ]
  },
  {
   "cell_type": "code",
   "execution_count": 259,
   "metadata": {},
   "outputs": [],
   "source": [
    "min_delay_airport = airports.query('IATA_CODE == @min_delay_airport')"
   ]
  },
  {
   "cell_type": "code",
   "execution_count": 260,
   "metadata": {},
   "outputs": [
    {
     "name": "stdout",
     "output_type": "stream",
     "text": [
      "Аэропорт с минимальной задержкой вылета - Yakutat Airport\n"
     ]
    }
   ],
   "source": [
    "print(f'Аэропорт с минимальной задержкой вылета - {min_delay_airport.AIRPORT.iloc[0]}')"
   ]
  },
  {
   "attachments": {},
   "cell_type": "markdown",
   "metadata": {},
   "source": [
    "----------Задача №2: Найти самую пунктуальную авиакомпанию на прилет в Los Angeles International Airport"
   ]
  },
  {
   "cell_type": "code",
   "execution_count": null,
   "metadata": {},
   "outputs": [],
   "source": [
    "#В DESTINATION_AIRPORT также встречается кодировка FAA. Исправим."
   ]
  },
  {
   "cell_type": "code",
   "execution_count": 261,
   "metadata": {},
   "outputs": [],
   "source": [
    "flights['DESTINATION_AIRPORT'] = flights['DESTINATION_AIRPORT'].values.astype(str)"
   ]
  },
  {
   "cell_type": "code",
   "execution_count": 435,
   "metadata": {},
   "outputs": [],
   "source": [
    "for i in range(len(flights)):\n",
    "    if len(flights['DESTINATION_AIRPORT'][i]) != 3:\n",
    "        to_replace = flights['DESTINATION_AIRPORT'][i]\n",
    "        value = aircode_dict[flights['DESTINATION_AIRPORT'][i]]\n",
    "        flights = flights.replace(to_replace, value)"
   ]
  },
  {
   "cell_type": "code",
   "execution_count": 267,
   "metadata": {},
   "outputs": [],
   "source": [
    "#В ARRIVAL_DELAY есть пропуски. Заменим пропуски на среднее ARRIVAL_DELAY по авиакомпании."
   ]
  },
  {
   "cell_type": "code",
   "execution_count": 436,
   "metadata": {},
   "outputs": [
    {
     "data": {
      "text/plain": [
       "105071"
      ]
     },
     "execution_count": 436,
     "metadata": {},
     "output_type": "execute_result"
    }
   ],
   "source": [
    "flights.ARRIVAL_DELAY.isna().sum()"
   ]
  },
  {
   "cell_type": "code",
   "execution_count": 544,
   "metadata": {},
   "outputs": [],
   "source": [
    "delays = flights.groupby('AIRLINE')['ARRIVAL_DELAY'].mean().reset_index().copy()"
   ]
  },
  {
   "cell_type": "code",
   "execution_count": 545,
   "metadata": {},
   "outputs": [],
   "source": [
    "for i in range(len(flights)):\n",
    "    if math.isnan(flights['ARRIVAL_DELAY'][i]):\n",
    "        airline = flights['AIRLINE'][i]\n",
    "        flights['ARRIVAL_DELAY'][i] = delays.query('AIRLINE == @airline').iloc[0][1]"
   ]
  },
  {
   "cell_type": "code",
   "execution_count": 421,
   "metadata": {},
   "outputs": [],
   "source": [
    "la_airport = airports.query('AIRPORT == \"Los Angeles International Airport\"')['IATA_CODE'].iloc[0]"
   ]
  },
  {
   "cell_type": "code",
   "execution_count": 422,
   "metadata": {},
   "outputs": [],
   "source": [
    "punc = flights.query('DESTINATION_AIRPORT == @la_airport')"
   ]
  },
  {
   "cell_type": "code",
   "execution_count": 423,
   "metadata": {},
   "outputs": [],
   "source": [
    "punc = pd.DataFrame(punc).reset_index()"
   ]
  },
  {
   "cell_type": "code",
   "execution_count": 424,
   "metadata": {},
   "outputs": [],
   "source": [
    "#Если самолёт прилетел раньше запланированного, задержкой это считать не будем\n",
    "punc.loc[punc['ARRIVAL_DELAY'] < 0, 'ARRIVAL_DELAY'] = 0"
   ]
  },
  {
   "cell_type": "code",
   "execution_count": 425,
   "metadata": {},
   "outputs": [
    {
     "name": "stdout",
     "output_type": "stream",
     "text": [
      "Самая пунктуальная авиакомпания на прилет в Los Angeles International Airport: Hawaiian Airlines Inc. с средней задержкой 6.19 минут.\n"
     ]
    }
   ],
   "source": [
    "# Найдем среднюю задержку для каждой авиакомпании\n",
    "avg_delays = punc.groupby('AIRLINE')['ARRIVAL_DELAY'].mean().reset_index()\n",
    "\n",
    "# Сортируем по средней задержке и выбираем первую строку (самую пунктуальную авиакомпанию)\n",
    "most_punctual = avg_delays.sort_values(by='ARRIVAL_DELAY').head(1)\n",
    "most_punctual_airline = most_punctual['AIRLINE'].values[0]\n",
    "airline = airlines.query('IATA_CODE == @most_punctual_airline').iloc[0][1]\n",
    "\n",
    "print(f\"Самая пунктуальная авиакомпания на прилет в Los Angeles International Airport: {airline} с средней задержкой {most_punctual['ARRIVAL_DELAY'].values[0]:.2f} минут.\")"
   ]
  },
  {
   "cell_type": "markdown",
   "metadata": {},
   "source": [
    "----------Задача №3:Найти аэропорт, где самолёты проводят больше всего времени на рулении (среднее значение)"
   ]
  },
  {
   "cell_type": "code",
   "execution_count": 275,
   "metadata": {},
   "outputs": [],
   "source": [
    "#Сделаем сводные таблицы по TAXI_OUT и TAXI_IN для каждого аэропорта, \n",
    "#затем объединим для высчитывания среднего времени на рулении для каждого аэропорта\n",
    "\n",
    "t1 = flights.TAXI_IN.notna()\n",
    "t2 = flights.TAXI_OUT.notna()\n",
    "\n",
    "df = flights[t1&t2]"
   ]
  },
  {
   "cell_type": "code",
   "execution_count": 276,
   "metadata": {},
   "outputs": [],
   "source": [
    "pivot_table1 = pd.pivot_table(\n",
    "    df,\n",
    "    index='ORIGIN_AIRPORT', \n",
    "    values=['TAXI_IN', 'FLIGHT_NUMBER'],  \n",
    "    aggfunc={\n",
    "        'TAXI_IN': 'sum',  \n",
    "        'FLIGHT_NUMBER': 'count'  \n",
    "    }\n",
    ")"
   ]
  },
  {
   "cell_type": "code",
   "execution_count": 278,
   "metadata": {},
   "outputs": [],
   "source": [
    "pivot_table2 = pd.pivot_table(\n",
    "    df,\n",
    "    index='DESTINATION_AIRPORT',  \n",
    "    values=['TAXI_OUT', 'FLIGHT_NUMBER'], \n",
    "    aggfunc={\n",
    "        'TAXI_OUT': 'sum',  \n",
    "        'FLIGHT_NUMBER': 'count'  \n",
    "    }\n",
    ")"
   ]
  },
  {
   "cell_type": "code",
   "execution_count": 280,
   "metadata": {},
   "outputs": [],
   "source": [
    "pivot_table1 = pivot_table1.reset_index().astype(str)\n",
    "pivot_table2 = pivot_table2.reset_index().astype(str)\n",
    "pivot_table1 = pivot_table1.rename(columns={'ORIGIN_AIRPORT': 'AIRPORT'})\n",
    "pivot_table2 = pivot_table2.rename(columns={'DESTINATION_AIRPORT': 'AIRPORT'})\n",
    "\n",
    "pivot = pd.merge(pivot_table1,pivot_table2,on = 'AIRPORT')"
   ]
  },
  {
   "cell_type": "code",
   "execution_count": 282,
   "metadata": {},
   "outputs": [],
   "source": [
    "pivot['FLIGHT_NUMBER_x'] = pivot.FLIGHT_NUMBER_x.astype(int)\n",
    "pivot['FLIGHT_NUMBER_y'] = pivot.FLIGHT_NUMBER_y.astype(int)\n",
    "pivot['TAXI_IN'] = pivot.TAXI_IN.astype(float)\n",
    "pivot['TAXI_OUT'] = pivot.TAXI_OUT.astype(float)"
   ]
  },
  {
   "cell_type": "code",
   "execution_count": 283,
   "metadata": {},
   "outputs": [],
   "source": [
    "pivot['MEAN_TOTAL_TAXI'] = (pivot['TAXI_IN']+pivot['TAXI_OUT'])/(pivot['FLIGHT_NUMBER_x']+pivot['FLIGHT_NUMBER_y'])"
   ]
  },
  {
   "cell_type": "code",
   "execution_count": 285,
   "metadata": {},
   "outputs": [
    {
     "data": {
      "text/plain": [
       "0"
      ]
     },
     "execution_count": 285,
     "metadata": {},
     "output_type": "execute_result"
    }
   ],
   "source": [
    "pivot.MEAN_TOTAL_TAXI.isna().sum()"
   ]
  },
  {
   "cell_type": "code",
   "execution_count": 286,
   "metadata": {},
   "outputs": [
    {
     "data": {
      "text/plain": [
       "AIRPORT\n",
       "ABE    13.654033\n",
       "ABI    12.872292\n",
       "ABQ    11.203859\n",
       "ABR    12.960437\n",
       "ABY    12.913043\n",
       "         ...    \n",
       "WRG     7.702113\n",
       "WYS    13.084135\n",
       "XNA    15.444814\n",
       "YAK     7.814035\n",
       "YUM    15.235858\n",
       "Name: MEAN_TOTAL_TAXI, Length: 323, dtype: float64"
      ]
     },
     "execution_count": 286,
     "metadata": {},
     "output_type": "execute_result"
    }
   ],
   "source": [
    "# Группировка по аэропорту назначения и расчёт среднего времени руления\n",
    "airport_taxi_time = pivot.groupby('AIRPORT')['MEAN_TOTAL_TAXI'].mean()\n",
    "airport_taxi_time"
   ]
  },
  {
   "cell_type": "code",
   "execution_count": 419,
   "metadata": {},
   "outputs": [
    {
     "name": "stdout",
     "output_type": "stream",
     "text": [
      "Аэропорт с наибольшим средним временем руления: Sawyer International Airport\n",
      "Среднее время руления: 19.88 минут\n"
     ]
    }
   ],
   "source": [
    "# Поиск аэропорта с максимальным средним временем руления\n",
    "max_taxi_airport = airport_taxi_time.idxmax()\n",
    "max_taxi_airport = airports.query('IATA_CODE == @max_taxi_airport').iloc[0][1]\n",
    "max_taxi_time = airport_taxi_time.max()\n",
    "\n",
    "# Вывод результатов\n",
    "print(f'Аэропорт с наибольшим средним временем руления: {max_taxi_airport}')\n",
    "print(f'Среднее время руления: {max_taxi_time:.2f} минут')"
   ]
  },
  {
   "cell_type": "markdown",
   "metadata": {},
   "source": [
    "----------Задача №4.Построить модель, которая будет выбирать топ-3 аэропорта прилета (вероятность опоздания минимальная – RMSE метрика), в зависимости от аэропорта вылета  "
   ]
  },
  {
   "cell_type": "code",
   "execution_count": 546,
   "metadata": {},
   "outputs": [],
   "source": [
    "for_coder = flights[['ORIGIN_AIRPORT', 'DESTINATION_AIRPORT','ARRIVAL_DELAY']].copy()"
   ]
  },
  {
   "cell_type": "code",
   "execution_count": 547,
   "metadata": {},
   "outputs": [],
   "source": [
    "# Кодирование категориальных признаков\n",
    "le_origin = LabelEncoder()\n",
    "le_dest = LabelEncoder()\n",
    "\n",
    "for_coder['ORIGIN_AIRPORT_num'] = le_origin.fit_transform(for_coder['ORIGIN_AIRPORT'])\n",
    "for_coder['DESTINATION_AIRPORT_num'] = le_dest.fit_transform(for_coder['DESTINATION_AIRPORT'])"
   ]
  },
  {
   "cell_type": "code",
   "execution_count": 490,
   "metadata": {},
   "outputs": [],
   "source": [
    "# Выбор необходимых столбцов\n",
    "X = pd.DataFrame(for_coder[['ORIGIN_AIRPORT_num', 'DESTINATION_AIRPORT_num']])\n",
    "y = pd.DataFrame(for_coder['ARRIVAL_DELAY'])"
   ]
  },
  {
   "cell_type": "code",
   "execution_count": 491,
   "metadata": {},
   "outputs": [],
   "source": [
    "# Разделение данных на обучающую и тестовую выборки\n",
    "X_train, X_test, y_train, y_test = train_test_split(X, y, test_size=0.2, random_state=42)"
   ]
  },
  {
   "cell_type": "code",
   "execution_count": null,
   "metadata": {},
   "outputs": [],
   "source": [
    "#Сравним несколько моделей машинного обучения и выберем лучшую с помощью RMSE"
   ]
  },
  {
   "cell_type": "code",
   "execution_count": 552,
   "metadata": {},
   "outputs": [
    {
     "name": "stdout",
     "output_type": "stream",
     "text": [
      "RMSE: 39.08\n"
     ]
    }
   ],
   "source": [
    "# Создание и обучение линейной регрессионной модели\n",
    "model = LinearRegression()\n",
    "model.fit(X_train, y_train)\n",
    "y_pred = model.predict(X_test)\n",
    "rmse = sqrt(mean_squared_error(y_test, y_pred))\n",
    "print(f'RMSE: {rmse:.2f}')"
   ]
  },
  {
   "cell_type": "code",
   "execution_count": 573,
   "metadata": {},
   "outputs": [
    {
     "name": "stdout",
     "output_type": "stream",
     "text": [
      "RMSE: 38.86\n"
     ]
    }
   ],
   "source": [
    "# Создание и обучение DecisionTreeRegressor\n",
    "model = DecisionTreeRegressor(random_state=42)\n",
    "model.fit(X_train, y_train)\n",
    "y_pred = model.predict(X_test)\n",
    "rmse = sqrt(mean_squared_error(y_test, y_pred))\n",
    "print(f'RMSE: {rmse:.2f}')"
   ]
  },
  {
   "cell_type": "code",
   "execution_count": null,
   "metadata": {},
   "outputs": [],
   "source": [
    "# DecisionTreeRegressor лучше, так как значение RMSE меньше"
   ]
  },
  {
   "cell_type": "code",
   "execution_count": 574,
   "metadata": {},
   "outputs": [],
   "source": [
    "def get_top_3_destinations(origin):\n",
    "    # Получаем индексы всех строк с указанным аэропортом вылета\n",
    "    rows = X[X['ORIGIN_AIRPORT_num'] == origin]\n",
    "    \n",
    "    # Прогнозируем задержку для этих строк\n",
    "    predictions = model.predict(rows)\n",
    "    \n",
    "    # Формируем словарь, где ключ - индекс строки, значение - предсказанная задержка\n",
    "    delay_dict = dict(zip(rows.index, predictions))\n",
    "    \n",
    "    # Сортируем аэропорты назначения по возрастанию задержки\n",
    "    sorted_delays = sorted(delay_dict.items(), key=lambda x: x[1])\n",
    "    \n",
    "    # Проверяем, что среди первых трёх аэропортов нет повторений\n",
    "    unique_destinations = []\n",
    "    seen_destinations = set()\n",
    "    \n",
    "    for idx, _ in sorted_delays:\n",
    "        dest = X.at[idx, 'DESTINATION_AIRPORT_num']\n",
    "        if dest not in seen_destinations:\n",
    "            unique_destinations.append(dest)\n",
    "            seen_destinations.add(dest)\n",
    "        \n",
    "        if len(unique_destinations) >= 3:\n",
    "            break\n",
    "            \n",
    "    if len(unique_destinations) < 3:\n",
    "        print('Невозможно построить топ-3 аэропорта прибытия для этого аэропорта отправления, так как их меньше 3.')\n",
    "    \n",
    "    return unique_destinations"
   ]
  },
  {
   "cell_type": "code",
   "execution_count": 577,
   "metadata": {},
   "outputs": [
    {
     "name": "stdout",
     "output_type": "stream",
     "text": [
      " \n",
      "Топ аэропортов назначения для вылета из Los Angeles International Airport:                                              0\n",
      "0  Ted Stevens Anchorage International Airport\n",
      "1           Philadelphia International Airport\n",
      "2    Ronald Reagan Washington National Airport\n"
     ]
    }
   ],
   "source": [
    "origin = 'LAX'\n",
    "decode_origin = airports[airports['IATA_CODE'] == origin].iloc[0][1]\n",
    "origin_airport_num = for_coder[for_coder['ORIGIN_AIRPORT'] == origin].iloc[0][3]\n",
    "top_3 = get_top_3_destinations(origin_airport_num)\n",
    "decode_top_3 = []\n",
    "for airport in top_3:\n",
    "    decode_airport = for_coder[for_coder['DESTINATION_AIRPORT_num'] == airport].iloc[0][1]\n",
    "    decode_airport = airports[airports['IATA_CODE'] == decode_airport].iloc[0][1]\n",
    "    decode_top_3.append(decode_airport)\n",
    "decode_top_3 = pd.DataFrame(decode_top_3)\n",
    "\n",
    "print(\" \")\n",
    "print(f\"Топ аэропортов назначения для вылета из {decode_origin}: {decode_top_3}\")"
   ]
  }
 ],
 "metadata": {
  "kernelspec": {
   "display_name": "Python 3",
   "language": "python",
   "name": "python3"
  },
  "language_info": {
   "codemirror_mode": {
    "name": "ipython",
    "version": 3
   },
   "file_extension": ".py",
   "mimetype": "text/x-python",
   "name": "python",
   "nbconvert_exporter": "python",
   "pygments_lexer": "ipython3",
   "version": "3.8.5"
  }
 },
 "nbformat": 4,
 "nbformat_minor": 4
}
